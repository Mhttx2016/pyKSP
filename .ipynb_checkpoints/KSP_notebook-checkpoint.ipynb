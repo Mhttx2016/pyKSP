{
 "cells": [
  {
   "cell_type": "code",
   "execution_count": 1,
   "metadata": {
    "collapsed": false
   },
   "outputs": [],
   "source": [
    "import sys\n",
    "sys.path.insert(0, '../')\n",
    "\n",
    "import matplotlib\n",
    "matplotlib.use(\"nbagg\")\n",
    "import skimage\n",
    "import skimage.filters\n",
    "import skimage.morphology\n",
    "import math\n",
    "import numpy.linalg as la\n",
    "import numpy as np\n",
    "import matplotlib.pyplot as plt\n",
    "import sklearn\n",
    "import cv2\n",
    "import scipy\n",
    "import scipy.io as sio\n",
    "import re, os, glob, pickle, shutil\n",
    "from shutil import *\n",
    "\n",
    "import hickle as hkl\n",
    "\n",
    "\n",
    "\n",
    "import pandas as pd\n",
    "\n",
    "from random import randint\n",
    "\n",
    "from visualize import *\n"
   ]
  },
  {
   "cell_type": "code",
   "execution_count": 2,
   "metadata": {
    "collapsed": false
   },
   "outputs": [
    {
     "name": "stdout",
     "output_type": "stream",
     "text": [
      "running build_ext\n",
      "skipping 'kgraph.cpp' Cython extension (up-to-date)\n"
     ]
    }
   ],
   "source": [
    "run setup.py build_ext -i"
   ]
  },
  {
   "cell_type": "code",
   "execution_count": 3,
   "metadata": {
    "collapsed": false
   },
   "outputs": [],
   "source": [
    "from ksp import pyKShorthestPathGraph"
   ]
  },
  {
   "cell_type": "code",
   "execution_count": 4,
   "metadata": {
    "collapsed": true
   },
   "outputs": [],
   "source": [
    "def get_fake():\n",
    "    out = np.zeros((37,36)) + 0.00001\n",
    "    out[15,15] = 0.99\n",
    "    out[10,20] = 0.99\n",
    "    \n",
    "    return out"
   ]
  },
  {
   "cell_type": "code",
   "execution_count": null,
   "metadata": {
    "collapsed": false
   },
   "outputs": [],
   "source": [
    "\n",
    "depth = 10\n",
    "q_vector = np.zeros(37*36*depth)\n",
    "\n",
    "#Prepare flat vector for ksp\n",
    "for t in range(0,depth):\n",
    "    #Q_loc = get_Q(t,M_ids[t])\n",
    "    Q_loc = get_fake()\n",
    "    flat_q = np.clip(np.ndarray.flatten(Q_loc),1e-6,0.999999)\n",
    "    q_vector[37*36*t:37*36*(t+1)] = -np.log(flat_q/(1-flat_q))\n",
    "    \n",
    "access_points = np.asarray([0])\n",
    "G = pyKShorthestPathGraph(q_vector,37,36,depth,3,access_points)\n",
    "v = G.getPath(0,depth)\n",
    "del G"
   ]
  },
  {
   "cell_type": "code",
   "execution_count": 6,
   "metadata": {
    "collapsed": false
   },
   "outputs": [
    {
     "name": "stdout",
     "output_type": "stream",
     "text": [
      "[555, 380, 555, 380, 555, 380, 555, 380, 555, 380, 555, 380, 555, 380, 555, 380, 555, 380, 555, 380, 1058, 0]\n"
     ]
    }
   ],
   "source": [
    "print v"
   ]
  },
  {
   "cell_type": "code",
   "execution_count": 7,
   "metadata": {
    "collapsed": false
   },
   "outputs": [
    {
     "name": "stdout",
     "output_type": "stream",
     "text": [
      "22\n"
     ]
    }
   ],
   "source": [
    "555/36\n",
    "print len(v)"
   ]
  },
  {
   "cell_type": "raw",
   "metadata": {},
   "source": [
    "print v.shape"
   ]
  },
  {
   "cell_type": "code",
   "execution_count": null,
   "metadata": {
    "collapsed": true
   },
   "outputs": [],
   "source": []
  }
 ],
 "metadata": {
  "kernelspec": {
   "display_name": "Python 2",
   "language": "python",
   "name": "python2"
  },
  "language_info": {
   "codemirror_mode": {
    "name": "ipython",
    "version": 2
   },
   "file_extension": ".py",
   "mimetype": "text/x-python",
   "name": "python",
   "nbconvert_exporter": "python",
   "pygments_lexer": "ipython2",
   "version": "2.7.11"
  }
 },
 "nbformat": 4,
 "nbformat_minor": 0
}
